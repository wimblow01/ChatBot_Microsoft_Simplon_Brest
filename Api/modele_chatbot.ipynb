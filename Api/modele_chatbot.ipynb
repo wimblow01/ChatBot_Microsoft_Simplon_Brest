{
 "cells": [
  {
   "cell_type": "markdown",
   "metadata": {
    "id": "j2gXBq7Qak4T"
   },
   "source": [
    "# Modèle de Chatbot"
   ]
  },
  {
   "cell_type": "code",
   "execution_count": 1,
   "metadata": {
    "executionInfo": {
     "elapsed": 3483,
     "status": "ok",
     "timestamp": 1619512273860,
     "user": {
      "displayName": "Aude Pertron",
      "photoUrl": "",
      "userId": "09537946216891614483"
     },
     "user_tz": -120
    },
    "id": "lhKiMu2ZardP"
   },
   "outputs": [],
   "source": [
    "import tensorflow as tf\n",
    "import numpy as np\n",
    "import pandas as pd\n",
    "import json\n",
    "import nltk\n",
    "from tensorflow.keras.preprocessing.text import Tokenizer\n",
    "from tensorflow.keras.layers import Input, Embedding, LSTM , Dense, GlobalMaxPooling1D, Flatten\n",
    "from tensorflow.keras.models import Model\n",
    "import matplotlib.pyplot as plt"
   ]
  },
  {
   "cell_type": "code",
   "execution_count": 2,
   "metadata": {
    "colab": {
     "base_uri": "https://localhost:8080/",
     "height": 405
    },
    "executionInfo": {
     "elapsed": 553,
     "status": "error",
     "timestamp": 1619518469290,
     "user": {
      "displayName": "Aude Pertron",
      "photoUrl": "",
      "userId": "09537946216891614483"
     },
     "user_tz": -120
    },
    "id": "_o3A2U5DdLX8",
    "outputId": "ecf298b8-0916-4434-e635-34cdc9134cc2"
   },
   "outputs": [
    {
     "ename": "FileNotFoundError",
     "evalue": "[Errno 2] No such file or directory: 'C:\\\\Users\\\\utilisateur\\\\Documents\\\\GitHub\\\\Chatbot\\\\ChatBot_isen_Brest\\\\dataset_apprenant.json'",
     "output_type": "error",
     "traceback": [
      "\u001b[1;31m---------------------------------------------------------------------------\u001b[0m",
      "\u001b[1;31mFileNotFoundError\u001b[0m                         Traceback (most recent call last)",
      "\u001b[1;32m<ipython-input-2-169aeffae5e9>\u001b[0m in \u001b[0;36m<module>\u001b[1;34m\u001b[0m\n\u001b[0;32m      2\u001b[0m \u001b[1;31m#data = pd.read_json(\"/content/gdrive/MyDrive/chatbot/dataset.json\")\u001b[0m\u001b[1;33m\u001b[0m\u001b[1;33m\u001b[0m\u001b[1;33m\u001b[0m\u001b[0m\n\u001b[0;32m      3\u001b[0m \u001b[1;33m\u001b[0m\u001b[0m\n\u001b[1;32m----> 4\u001b[1;33m \u001b[1;32mwith\u001b[0m \u001b[0mopen\u001b[0m\u001b[1;33m(\u001b[0m\u001b[1;34mr'C:\\Users\\utilisateur\\Documents\\GitHub\\Chatbot\\ChatBot_isen_Brest\\dataset_apprenant.json'\u001b[0m\u001b[1;33m)\u001b[0m \u001b[1;32mas\u001b[0m \u001b[0mcontent\u001b[0m\u001b[1;33m:\u001b[0m\u001b[1;33m\u001b[0m\u001b[1;33m\u001b[0m\u001b[0m\n\u001b[0m\u001b[0;32m      5\u001b[0m   \u001b[0mdata1\u001b[0m \u001b[1;33m=\u001b[0m \u001b[0mjson\u001b[0m\u001b[1;33m.\u001b[0m\u001b[0mload\u001b[0m\u001b[1;33m(\u001b[0m\u001b[0mcontent\u001b[0m\u001b[1;33m)\u001b[0m\u001b[1;33m\u001b[0m\u001b[1;33m\u001b[0m\u001b[0m\n\u001b[0;32m      6\u001b[0m \u001b[1;31m#getting all the data to lists\u001b[0m\u001b[1;33m\u001b[0m\u001b[1;33m\u001b[0m\u001b[1;33m\u001b[0m\u001b[0m\n",
      "\u001b[1;31mFileNotFoundError\u001b[0m: [Errno 2] No such file or directory: 'C:\\\\Users\\\\utilisateur\\\\Documents\\\\GitHub\\\\Chatbot\\\\ChatBot_isen_Brest\\\\dataset_apprenant.json'"
     ]
    }
   ],
   "source": [
    "#importing the dataset\n",
    "#data = pd.read_json(\"/content/gdrive/MyDrive/chatbot/dataset.json\")\n",
    "\n",
    "with open(r'C:\\Users\\utilisateur\\Documents\\GitHub\\Chatbot\\ChatBot_isen_Brest\\dataset_apprenant.json') as content:\n",
    "  data1 = json.load(content)\n",
    "#getting all the data to lists\n",
    "tags = []\n",
    "inputs = []\n",
    "responses={}\n",
    "for intent in data1['intents']:\n",
    "  responses[intent['tags']]=intent['responses']\n",
    "  for lines in intent['input']:\n",
    "    inputs.append(lines)\n",
    "    tags.append(intent['tags'])#converting to dataframe\n",
    "data = pd.DataFrame({\"inputs\":inputs,\n",
    "                     \"tags\":tags})\n",
    "data.head()"
   ]
  },
  {
   "cell_type": "code",
   "execution_count": null,
   "metadata": {
    "executionInfo": {
     "elapsed": 438,
     "status": "ok",
     "timestamp": 1619513724164,
     "user": {
      "displayName": "Aude Pertron",
      "photoUrl": "",
      "userId": "09537946216891614483"
     },
     "user_tz": -120
    },
    "id": "xzh9CSgpdyb-"
   },
   "outputs": [],
   "source": [
    "#removing punctuations\n",
    "import string\n",
    "data['inputs'] = data['inputs'].apply(lambda wrd:[ltrs.lower() for ltrs in wrd if ltrs not in string.punctuation])\n",
    "data['inputs'] = data['inputs'].apply(lambda wrd: ''.join(wrd))#tokenize the data\n",
    "from tensorflow.keras.preprocessing.text import Tokenizer\n",
    "tokenizer = Tokenizer(num_words=2000)\n",
    "tokenizer.fit_on_texts(data['inputs'])\n",
    "train = tokenizer.texts_to_sequences(data['inputs'])\n",
    "#apply padding\n",
    "from tensorflow.keras.preprocessing.sequence import pad_sequences\n",
    "x_train = pad_sequences(train)\n",
    "#encoding the outputs\n",
    "from sklearn.preprocessing import LabelEncoder\n",
    "le = LabelEncoder()\n",
    "y_train = le.fit_transform(data['tags'])"
   ]
  },
  {
   "cell_type": "code",
   "execution_count": null,
   "metadata": {
    "colab": {
     "base_uri": "https://localhost:8080/"
    },
    "executionInfo": {
     "elapsed": 430,
     "status": "ok",
     "timestamp": 1619513790479,
     "user": {
      "displayName": "Aude Pertron",
      "photoUrl": "",
      "userId": "09537946216891614483"
     },
     "user_tz": -120
    },
    "id": "3wTn8_tzf5vE",
    "outputId": "d81cbdce-06fd-4c7d-8f55-53f5cd170210"
   },
   "outputs": [],
   "source": [
    "#input length\n",
    "input_shape = x_train.shape[1]\n",
    "print(input_shape)\n",
    "#define vocabulary\n",
    "vocabulary = len(tokenizer.word_index)\n",
    "print(\"number of unique words : \",vocabulary)\n",
    "#output length\n",
    "output_length = le.classes_.shape[0]\n",
    "print(\"output length: \",output_length)"
   ]
  },
  {
   "cell_type": "code",
   "execution_count": null,
   "metadata": {
    "colab": {
     "base_uri": "https://localhost:8080/"
    },
    "executionInfo": {
     "elapsed": 12786,
     "status": "ok",
     "timestamp": 1619514134597,
     "user": {
      "displayName": "Aude Pertron",
      "photoUrl": "",
      "userId": "09537946216891614483"
     },
     "user_tz": -120
    },
    "id": "CGkuNvLwgxOE",
    "outputId": "7df20de7-18d5-40ec-d7cc-ecffc9729185"
   },
   "outputs": [],
   "source": [
    "#creating the model\n",
    "i = Input(shape=(input_shape,))\n",
    "x = Embedding(vocabulary+1,10)(i)\n",
    "x = LSTM(10,return_sequences=True)(x)\n",
    "x = Flatten()(x)\n",
    "x = Dense(output_length,activation=\"softmax\")(x)\n",
    "model  = Model(i,x)#compiling the model\n",
    "model.compile(loss=\"sparse_categorical_crossentropy\",optimizer='adam',metrics=['accuracy'])#training the model\n",
    "train = model.fit(x_train,y_train,epochs=300)"
   ]
  },
  {
   "cell_type": "code",
   "execution_count": null,
   "metadata": {
    "colab": {
     "base_uri": "https://localhost:8080/",
     "height": 819
    },
    "executionInfo": {
     "elapsed": 3656902,
     "status": "error",
     "timestamp": 1619518195095,
     "user": {
      "displayName": "Aude Pertron",
      "photoUrl": "",
      "userId": "09537946216891614483"
     },
     "user_tz": -120
    },
    "id": "0_0DbcfXj0YL",
    "outputId": "5c44a952-8593-4b50-a723-7d2c86760b7a"
   },
   "outputs": [],
   "source": [
    "#chatting\n",
    "import random\n",
    "while True:\n",
    "  texts_p = []\n",
    "  prediction_input = input('question : ')  #removing punctuation and converting to lowercase\n",
    "  prediction_input = [letters.lower() for letters in prediction_input if letters not in string.punctuation]\n",
    "  prediction_input = ''.join(prediction_input)\n",
    "  texts_p.append(prediction_input)  #tokenizing and padding\n",
    "  prediction_input = tokenizer.texts_to_sequences(texts_p)\n",
    "  prediction_input = np.array(prediction_input).reshape(-1)\n",
    "  prediction_input = pad_sequences([prediction_input],input_shape)  #getting output from model\n",
    "  output = model.predict(prediction_input)\n",
    "  output = output.argmax()  #finding the right tag and predicting\n",
    "  response_tag = le.inverse_transform([output])[0]\n",
    "  print(\"tag: \",response_tag)\n",
    "  if response_tag == \"au revoir\":\n",
    "    break"
   ]
  },
  {
   "cell_type": "code",
   "execution_count": null,
   "metadata": {
    "id": "kya1Sn4PkUDb"
   },
   "outputs": [],
   "source": []
  }
 ],
 "metadata": {
  "accelerator": "GPU",
  "colab": {
   "authorship_tag": "ABX9TyNeXY6zck8ogT62V05rS/YP",
   "collapsed_sections": [],
   "name": "Untitled1.ipynb",
   "provenance": [],
   "toc_visible": true
  },
  "kernelspec": {
   "display_name": "Python 3",
   "language": "python",
   "name": "python3"
  },
  "language_info": {
   "codemirror_mode": {
    "name": "ipython",
    "version": 3
   },
   "file_extension": ".py",
   "mimetype": "text/x-python",
   "name": "python",
   "nbconvert_exporter": "python",
   "pygments_lexer": "ipython3",
   "version": "3.8.5"
  }
 },
 "nbformat": 4,
 "nbformat_minor": 1
}
